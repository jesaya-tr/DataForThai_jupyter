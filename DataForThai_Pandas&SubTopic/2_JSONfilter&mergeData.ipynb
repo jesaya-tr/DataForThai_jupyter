{
 "cells": [
  {
   "cell_type": "code",
   "execution_count": 1,
   "id": "004ccddc",
   "metadata": {},
   "outputs": [],
   "source": [
    "import pandas as pd\n",
    "import numpy as np\n",
    "import requests\n",
    "from bs4 import BeautifulSoup\n",
    "import os\n",
    "import json\n",
    "from pandas import json_normalize\n",
    "# pd.__version__"
   ]
  },
  {
   "cell_type": "code",
   "execution_count": null,
   "id": "47d7d891",
   "metadata": {},
   "outputs": [],
   "source": []
  },
  {
   "cell_type": "raw",
   "id": "21f90ef8",
   "metadata": {},
   "source": []
  },
  {
   "cell_type": "code",
   "execution_count": null,
   "id": "cafb2243",
   "metadata": {},
   "outputs": [],
   "source": []
  },
  {
   "cell_type": "code",
   "execution_count": 2,
   "id": "4ba93cc8",
   "metadata": {},
   "outputs": [
    {
     "data": {
      "text/html": [
       "<div>\n",
       "<style scoped>\n",
       "    .dataframe tbody tr th:only-of-type {\n",
       "        vertical-align: middle;\n",
       "    }\n",
       "\n",
       "    .dataframe tbody tr th {\n",
       "        vertical-align: top;\n",
       "    }\n",
       "\n",
       "    .dataframe thead th {\n",
       "        text-align: right;\n",
       "    }\n",
       "</style>\n",
       "<table border=\"1\" class=\"dataframe\">\n",
       "  <thead>\n",
       "    <tr style=\"text-align: right;\">\n",
       "      <th></th>\n",
       "      <th>รหัส</th>\n",
       "      <th>ประเภทธุรกิจ</th>\n",
       "      <th>จำนวน</th>\n",
       "      <th>จำนวนหน้า</th>\n",
       "    </tr>\n",
       "  </thead>\n",
       "  <tbody>\n",
       "    <tr>\n",
       "      <th>0</th>\n",
       "      <td>01111</td>\n",
       "      <td>การปลูกข้าวโพดที่ใช้เมล็ดแก่</td>\n",
       "      <td>24</td>\n",
       "      <td>1</td>\n",
       "    </tr>\n",
       "    <tr>\n",
       "      <th>1</th>\n",
       "      <td>01112</td>\n",
       "      <td>การปลูกธัญพืช (ยกเว้นข้าวและข้าวโพด)</td>\n",
       "      <td>34</td>\n",
       "      <td>1</td>\n",
       "    </tr>\n",
       "    <tr>\n",
       "      <th>2</th>\n",
       "      <td>01113</td>\n",
       "      <td>การปลูกพืชตระกูลถั่ว</td>\n",
       "      <td>15</td>\n",
       "      <td>1</td>\n",
       "    </tr>\n",
       "    <tr>\n",
       "      <th>3</th>\n",
       "      <td>01114</td>\n",
       "      <td>การปลูกถั่วเหลือง</td>\n",
       "      <td>3</td>\n",
       "      <td>1</td>\n",
       "    </tr>\n",
       "    <tr>\n",
       "      <th>4</th>\n",
       "      <td>01115</td>\n",
       "      <td>การปลูกพืชน้ำมัน (ยกเว้นถั่วเหลือง)</td>\n",
       "      <td>10</td>\n",
       "      <td>1</td>\n",
       "    </tr>\n",
       "    <tr>\n",
       "      <th>...</th>\n",
       "      <td>...</td>\n",
       "      <td>...</td>\n",
       "      <td>...</td>\n",
       "      <td>...</td>\n",
       "    </tr>\n",
       "    <tr>\n",
       "      <th>127</th>\n",
       "      <td>10133</td>\n",
       "      <td>การผลิตเนื้อสัตว์และเนื้อสัตว์ปีกบรรจุกระป๋อง</td>\n",
       "      <td>6</td>\n",
       "      <td>1</td>\n",
       "    </tr>\n",
       "    <tr>\n",
       "      <th>128</th>\n",
       "      <td>10134</td>\n",
       "      <td>การผลิตผลิตภัณฑ์พลอยได้จากสัตว์และสัตว์ปีก</td>\n",
       "      <td>91</td>\n",
       "      <td>1</td>\n",
       "    </tr>\n",
       "    <tr>\n",
       "      <th>129</th>\n",
       "      <td>10139</td>\n",
       "      <td>การผลิตผลิตภัณฑ์อื่น ๆ จากเนื้อสัตว์และเนื้อสั...</td>\n",
       "      <td>184</td>\n",
       "      <td>1</td>\n",
       "    </tr>\n",
       "    <tr>\n",
       "      <th>130</th>\n",
       "      <td>10210</td>\n",
       "      <td>การผลิตสัตว์น้ำและผลิตภัณฑ์สัตว์น้ำสดแช่เย็นหร...</td>\n",
       "      <td>1</td>\n",
       "      <td>1</td>\n",
       "    </tr>\n",
       "    <tr>\n",
       "      <th>131</th>\n",
       "      <td>10211</td>\n",
       "      <td>การผลิตปลาและผลิตภัณฑ์จากปลาสดแช่เย็น หรือแช่แข็ง</td>\n",
       "      <td>131</td>\n",
       "      <td>1</td>\n",
       "    </tr>\n",
       "  </tbody>\n",
       "</table>\n",
       "<p>132 rows × 4 columns</p>\n",
       "</div>"
      ],
      "text/plain": [
       "      รหัส                                       ประเภทธุรกิจ  จำนวน  \\\n",
       "0    01111                       การปลูกข้าวโพดที่ใช้เมล็ดแก่     24   \n",
       "1    01112               การปลูกธัญพืช (ยกเว้นข้าวและข้าวโพด)     34   \n",
       "2    01113                               การปลูกพืชตระกูลถั่ว     15   \n",
       "3    01114                                  การปลูกถั่วเหลือง      3   \n",
       "4    01115                การปลูกพืชน้ำมัน (ยกเว้นถั่วเหลือง)     10   \n",
       "..     ...                                                ...    ...   \n",
       "127  10133      การผลิตเนื้อสัตว์และเนื้อสัตว์ปีกบรรจุกระป๋อง      6   \n",
       "128  10134         การผลิตผลิตภัณฑ์พลอยได้จากสัตว์และสัตว์ปีก     91   \n",
       "129  10139  การผลิตผลิตภัณฑ์อื่น ๆ จากเนื้อสัตว์และเนื้อสั...    184   \n",
       "130  10210  การผลิตสัตว์น้ำและผลิตภัณฑ์สัตว์น้ำสดแช่เย็นหร...      1   \n",
       "131  10211  การผลิตปลาและผลิตภัณฑ์จากปลาสดแช่เย็น หรือแช่แข็ง    131   \n",
       "\n",
       "     จำนวนหน้า  \n",
       "0            1  \n",
       "1            1  \n",
       "2            1  \n",
       "3            1  \n",
       "4            1  \n",
       "..         ...  \n",
       "127          1  \n",
       "128          1  \n",
       "129          1  \n",
       "130          1  \n",
       "131          1  \n",
       "\n",
       "[132 rows x 4 columns]"
      ]
     },
     "execution_count": 2,
     "metadata": {},
     "output_type": "execute_result"
    }
   ],
   "source": [
    "topic_file = '/Users/bew/Downloads/DataForThai_jupyter/DataForThai_Pandas&SubTopic/SubTopic_dataforthai.csv'\n",
    "topic_table = pd.read_csv(topic_file)\n",
    "\n",
    "\n",
    "topic_table['รหัส'] = topic_table['รหัส'].astype(str)\n",
    "# Function to add '0' to strings of length 4\n",
    "def add_zero(s):\n",
    "    if len(s) == 4:\n",
    "        return '0' + s\n",
    "    else:\n",
    "        return s\n",
    "# Applying the function to the DataFrame\n",
    "topic_table['รหัส'] = topic_table['รหัส'].apply(lambda x: add_zero(x))\n",
    "\n",
    "\n",
    "# topic_table.dtypes\n",
    "topic_table = topic_table[:132] # 10211 # update index (ไม่จำเป็นต้อง Up แค่ไม่ให้ Run เกินต้องการ)\n",
    "# topic_table = topic_table[topic_table['รหัส']=='01450']\n",
    "# print(topic_table)\n",
    "# max(topic_table['จำนวนหน้า'])\n",
    "topic_table"
   ]
  },
  {
   "cell_type": "code",
   "execution_count": null,
   "id": "7b41a94a",
   "metadata": {},
   "outputs": [],
   "source": []
  },
  {
   "cell_type": "code",
   "execution_count": 3,
   "id": "0bfcbcc7",
   "metadata": {},
   "outputs": [],
   "source": [
    "# topic_for_file = topic_table[topic_table['รหัส'] == no_topic]\n",
    "# topic_for_file"
   ]
  },
  {
   "cell_type": "code",
   "execution_count": null,
   "id": "c2d417e2",
   "metadata": {},
   "outputs": [],
   "source": []
  },
  {
   "cell_type": "code",
   "execution_count": 4,
   "id": "243f9c2a",
   "metadata": {},
   "outputs": [],
   "source": [
    "# # Read JSON file\n",
    "# file_path = f'/Users/bew/Downloads/WebScrapperFor_DataForThai/Target/01111.json'  # Replace with your file path\n",
    "\n",
    "# df = pd.read_json(file_path)\n",
    "\n",
    "# # # Load JSON data into DataFrame\n",
    "# # df = json_normalize(json_data)  # Use pd.DataFrame(json_data) if the JSON is already flat\n",
    "\n",
    "# # df['สถานะ'] = df['สถานะ'].astype(\"string\")\n",
    "# df.dtypes\n",
    "# # df"
   ]
  },
  {
   "cell_type": "code",
   "execution_count": 5,
   "id": "bc61f714",
   "metadata": {},
   "outputs": [
    {
     "name": "stdout",
     "output_type": "stream",
     "text": [
      "lastId = 10211\n"
     ]
    }
   ],
   "source": [
    "import pandas as pd\n",
    "import os\n",
    "\n",
    "# Initialize an empty DataFrame for the result\n",
    "result = pd.DataFrame()\n",
    "\n",
    "lastId = \"10211\" # update 'lastID' เพื่อไม่อ่านข้อมูลเดิม เพราะค้นหาข้อมูลมาทับ\n",
    "value = \"\"\n",
    "\n",
    "for index, row in topic_table.iterrows():\n",
    "    \n",
    "    value1 = row['รหัส']\n",
    "    value2 = row['ประเภทธุรกิจ']\n",
    "    \n",
    "    if (int(value1) <= int(lastId)): continue\n",
    "    \n",
    "    # Construct the file path\n",
    "    file_path = f'/Users/bew/Downloads/WebScrapperFor_DataForThai/Target/{value1}.json'\n",
    "    \n",
    "    # Check if the file exists\n",
    "    if os.path.exists(file_path):\n",
    "        try:\n",
    "            # Read JSON file\n",
    "            df = pd.read_json(file_path)\n",
    "            \n",
    "            # Add a new column with the business type\n",
    "#             df['ประกอบธุรกิจ'] = value2\n",
    "            \n",
    "            # Concatenate the current DataFrame to the result DataFrame\n",
    "            result = pd.concat([result, df], axis=0)\n",
    "        \n",
    "        except ValueError as e:\n",
    "            print(f\"Error reading JSON file at {file_path}: {e}\")\n",
    "    else:\n",
    "        print(f\"File not found: {file_path}\")\n",
    "    value = value1\n",
    "\n",
    "print(f\"lastId = {value1}\")"
   ]
  },
  {
   "cell_type": "code",
   "execution_count": 6,
   "id": "4cda1ca8",
   "metadata": {},
   "outputs": [],
   "source": [
    "# Reset the index of the final result DataFrame\n",
    "result = result.reset_index(drop=True)\n",
    "\n",
    "# result"
   ]
  },
  {
   "cell_type": "code",
   "execution_count": 7,
   "id": "d63f6532",
   "metadata": {},
   "outputs": [],
   "source": [
    "result.columns.tolist()\n",
    "\n",
    "result['เบอร์โทร'] = np.nan\n",
    "# new_order = ['เลขทะเบียน', 'ชื่อบริษัทภาษาไทย', 'ชื่อบริษัทภาษาอังกฤษ', 'ประกอบธุรกิจ', 'หมวดธุรกิจ', 'สถานะ',\n",
    "#              'วันที่จดทะเบียน', 'ทุนจดทะเบียน', 'ที่ตั้ง', 'ข้อมูลสำหรับการติดต่อ', 'เบอร์โทร', 'Website', 'ก่อตั้งโดย',\n",
    "#              'หลักทรัพย์', 'ที่มา', 'สมัครงาน / ดูตำแหน่งงานว่าง', 'วันที่ร้าง', 'วันที่เลิก']\n",
    "# result = result[new_order]\n",
    "# result"
   ]
  },
  {
   "cell_type": "code",
   "execution_count": 8,
   "id": "1b884e08",
   "metadata": {},
   "outputs": [],
   "source": [
    "# for index, row in topic_table.iterrows():\n",
    "    \n",
    "#     value1 = row['รหัส']\n",
    "#     value2 = row['ประเภทธุรกิจ']\n",
    "    \n",
    "#     # Read JSON file\n",
    "#     file_path = f'/Users/bew/Downloads/WebScrapperFor_DataForThai/Target/{value1}.json'  # Replace with your file path\n",
    "\n",
    "#     df = pd.read_json(file_path)\n",
    "    \n",
    "#     df['ประกอบธุรกิจ'] = value2\n",
    "    \n",
    "#     result = pd.concat([result, df], axis=0)\n",
    "    \n",
    "    \n",
    "# result\n"
   ]
  },
  {
   "cell_type": "code",
   "execution_count": null,
   "id": "3d12516a",
   "metadata": {},
   "outputs": [],
   "source": []
  },
  {
   "cell_type": "code",
   "execution_count": 9,
   "id": "c9848754",
   "metadata": {},
   "outputs": [
    {
     "ename": "KeyError",
     "evalue": "'ทุนจดทะเบียน'",
     "output_type": "error",
     "traceback": [
      "\u001b[0;31m---------------------------------------------------------------------------\u001b[0m",
      "\u001b[0;31mKeyError\u001b[0m                                  Traceback (most recent call last)",
      "File \u001b[0;32m~/opt/anaconda3/lib/python3.10/site-packages/pandas/core/indexes/base.py:3629\u001b[0m, in \u001b[0;36mIndex.get_loc\u001b[0;34m(self, key, method, tolerance)\u001b[0m\n\u001b[1;32m   3628\u001b[0m \u001b[38;5;28;01mtry\u001b[39;00m:\n\u001b[0;32m-> 3629\u001b[0m     \u001b[38;5;28;01mreturn\u001b[39;00m \u001b[38;5;28;43mself\u001b[39;49m\u001b[38;5;241;43m.\u001b[39;49m\u001b[43m_engine\u001b[49m\u001b[38;5;241;43m.\u001b[39;49m\u001b[43mget_loc\u001b[49m\u001b[43m(\u001b[49m\u001b[43mcasted_key\u001b[49m\u001b[43m)\u001b[49m\n\u001b[1;32m   3630\u001b[0m \u001b[38;5;28;01mexcept\u001b[39;00m \u001b[38;5;167;01mKeyError\u001b[39;00m \u001b[38;5;28;01mas\u001b[39;00m err:\n",
      "File \u001b[0;32m~/opt/anaconda3/lib/python3.10/site-packages/pandas/_libs/index.pyx:136\u001b[0m, in \u001b[0;36mpandas._libs.index.IndexEngine.get_loc\u001b[0;34m()\u001b[0m\n",
      "File \u001b[0;32m~/opt/anaconda3/lib/python3.10/site-packages/pandas/_libs/index.pyx:163\u001b[0m, in \u001b[0;36mpandas._libs.index.IndexEngine.get_loc\u001b[0;34m()\u001b[0m\n",
      "File \u001b[0;32mpandas/_libs/hashtable_class_helper.pxi:5198\u001b[0m, in \u001b[0;36mpandas._libs.hashtable.PyObjectHashTable.get_item\u001b[0;34m()\u001b[0m\n",
      "File \u001b[0;32mpandas/_libs/hashtable_class_helper.pxi:5206\u001b[0m, in \u001b[0;36mpandas._libs.hashtable.PyObjectHashTable.get_item\u001b[0;34m()\u001b[0m\n",
      "\u001b[0;31mKeyError\u001b[0m: 'ทุนจดทะเบียน'",
      "\nThe above exception was the direct cause of the following exception:\n",
      "\u001b[0;31mKeyError\u001b[0m                                  Traceback (most recent call last)",
      "Cell \u001b[0;32mIn[9], line 9\u001b[0m\n\u001b[1;32m      3\u001b[0m result \u001b[38;5;241m=\u001b[39m result\u001b[38;5;241m.\u001b[39mapplymap(\u001b[38;5;28mstr\u001b[39m)\n\u001b[1;32m      4\u001b[0m \u001b[38;5;66;03m# result['เลขทะเบียน'] = result['เลขทะเบียน'].map(str)\u001b[39;00m\n\u001b[1;32m      5\u001b[0m \u001b[38;5;66;03m# result['สถานะ'] = result['สถานะ'].astype(\"string\")\u001b[39;00m\n\u001b[1;32m      6\u001b[0m \n\u001b[1;32m      7\u001b[0m \n\u001b[1;32m      8\u001b[0m \u001b[38;5;66;03m# Step 1: Remove commas from the strings\u001b[39;00m\n\u001b[0;32m----> 9\u001b[0m result[\u001b[38;5;124m'\u001b[39m\u001b[38;5;124mทุนจดทะเบียน\u001b[39m\u001b[38;5;124m'\u001b[39m] \u001b[38;5;241m=\u001b[39m \u001b[43mresult\u001b[49m\u001b[43m[\u001b[49m\u001b[38;5;124;43m'\u001b[39;49m\u001b[38;5;124;43mทุนจดทะเบียน\u001b[39;49m\u001b[38;5;124;43m'\u001b[39;49m\u001b[43m]\u001b[49m\u001b[38;5;241m.\u001b[39mstr\u001b[38;5;241m.\u001b[39mreplace(\u001b[38;5;124m'\u001b[39m\u001b[38;5;124m,\u001b[39m\u001b[38;5;124m'\u001b[39m, \u001b[38;5;124m'\u001b[39m\u001b[38;5;124m'\u001b[39m)\n\u001b[1;32m     10\u001b[0m result[\u001b[38;5;124m'\u001b[39m\u001b[38;5;124mทุนจดทะเบียน\u001b[39m\u001b[38;5;124m'\u001b[39m] \u001b[38;5;241m=\u001b[39m result[\u001b[38;5;124m'\u001b[39m\u001b[38;5;124mทุนจดทะเบียน\u001b[39m\u001b[38;5;124m'\u001b[39m]\u001b[38;5;241m.\u001b[39mstr\u001b[38;5;241m.\u001b[39mreplace(\u001b[38;5;124m'\u001b[39m\u001b[38;5;124m บาท\u001b[39m\u001b[38;5;124m'\u001b[39m, \u001b[38;5;124m'\u001b[39m\u001b[38;5;124m'\u001b[39m)\n\u001b[1;32m     11\u001b[0m \u001b[38;5;66;03m# Step 2: Convert the strings to numeric type (int or float)\u001b[39;00m\n",
      "File \u001b[0;32m~/opt/anaconda3/lib/python3.10/site-packages/pandas/core/frame.py:3505\u001b[0m, in \u001b[0;36mDataFrame.__getitem__\u001b[0;34m(self, key)\u001b[0m\n\u001b[1;32m   3503\u001b[0m \u001b[38;5;28;01mif\u001b[39;00m \u001b[38;5;28mself\u001b[39m\u001b[38;5;241m.\u001b[39mcolumns\u001b[38;5;241m.\u001b[39mnlevels \u001b[38;5;241m>\u001b[39m \u001b[38;5;241m1\u001b[39m:\n\u001b[1;32m   3504\u001b[0m     \u001b[38;5;28;01mreturn\u001b[39;00m \u001b[38;5;28mself\u001b[39m\u001b[38;5;241m.\u001b[39m_getitem_multilevel(key)\n\u001b[0;32m-> 3505\u001b[0m indexer \u001b[38;5;241m=\u001b[39m \u001b[38;5;28;43mself\u001b[39;49m\u001b[38;5;241;43m.\u001b[39;49m\u001b[43mcolumns\u001b[49m\u001b[38;5;241;43m.\u001b[39;49m\u001b[43mget_loc\u001b[49m\u001b[43m(\u001b[49m\u001b[43mkey\u001b[49m\u001b[43m)\u001b[49m\n\u001b[1;32m   3506\u001b[0m \u001b[38;5;28;01mif\u001b[39;00m is_integer(indexer):\n\u001b[1;32m   3507\u001b[0m     indexer \u001b[38;5;241m=\u001b[39m [indexer]\n",
      "File \u001b[0;32m~/opt/anaconda3/lib/python3.10/site-packages/pandas/core/indexes/base.py:3631\u001b[0m, in \u001b[0;36mIndex.get_loc\u001b[0;34m(self, key, method, tolerance)\u001b[0m\n\u001b[1;32m   3629\u001b[0m     \u001b[38;5;28;01mreturn\u001b[39;00m \u001b[38;5;28mself\u001b[39m\u001b[38;5;241m.\u001b[39m_engine\u001b[38;5;241m.\u001b[39mget_loc(casted_key)\n\u001b[1;32m   3630\u001b[0m \u001b[38;5;28;01mexcept\u001b[39;00m \u001b[38;5;167;01mKeyError\u001b[39;00m \u001b[38;5;28;01mas\u001b[39;00m err:\n\u001b[0;32m-> 3631\u001b[0m     \u001b[38;5;28;01mraise\u001b[39;00m \u001b[38;5;167;01mKeyError\u001b[39;00m(key) \u001b[38;5;28;01mfrom\u001b[39;00m \u001b[38;5;21;01merr\u001b[39;00m\n\u001b[1;32m   3632\u001b[0m \u001b[38;5;28;01mexcept\u001b[39;00m \u001b[38;5;167;01mTypeError\u001b[39;00m:\n\u001b[1;32m   3633\u001b[0m     \u001b[38;5;66;03m# If we have a listlike key, _check_indexing_error will raise\u001b[39;00m\n\u001b[1;32m   3634\u001b[0m     \u001b[38;5;66;03m#  InvalidIndexError. Otherwise we fall through and re-raise\u001b[39;00m\n\u001b[1;32m   3635\u001b[0m     \u001b[38;5;66;03m#  the TypeError.\u001b[39;00m\n\u001b[1;32m   3636\u001b[0m     \u001b[38;5;28mself\u001b[39m\u001b[38;5;241m.\u001b[39m_check_indexing_error(key)\n",
      "\u001b[0;31mKeyError\u001b[0m: 'ทุนจดทะเบียน'"
     ]
    }
   ],
   "source": [
    "# result = result.drop(columns=['สมัครงาน / ดูตำแหน่งงานว่าง', 'วันที่ร้าง', 'หลักทรัพย์'])\n",
    "\n",
    "result = result.applymap(str)\n",
    "# result['เลขทะเบียน'] = result['เลขทะเบียน'].map(str)\n",
    "# result['สถานะ'] = result['สถานะ'].astype(\"string\")\n",
    "\n",
    "\n",
    "# Step 1: Remove commas from the strings\n",
    "result['ทุนจดทะเบียน'] = result['ทุนจดทะเบียน'].str.replace(',', '')\n",
    "result['ทุนจดทะเบียน'] = result['ทุนจดทะเบียน'].str.replace(' บาท', '')\n",
    "# Step 2: Convert the strings to numeric type (int or float)\n",
    "result['ทุนจดทะเบียน'] = pd.to_numeric(result['ทุนจดทะเบียน'])\n",
    "\n",
    "result.dtypes"
   ]
  },
  {
   "cell_type": "code",
   "execution_count": null,
   "id": "c470f83f",
   "metadata": {},
   "outputs": [],
   "source": [
    "result = result[result['สถานะ']=='ยังดำเนินกิจการอยู่']\n",
    "result = result[(result['ทุนจดทะเบียน'] >= 30000000)]\n",
    "\n",
    "# def get_length(obj):\n",
    "#     try:\n",
    "#         return len(obj)\n",
    "#     except TypeError:\n",
    "#         return None\n",
    "\n",
    "# for text in result['ทุนจดทะเบียน']:\n",
    "#     print(text.apply(get_length))\n",
    "\n",
    "# for index, row in result.iterrows():\n",
    "    \n",
    "#     value1 = row['เลขทะเบียน']\n",
    "#     if value1.apply(len) != 13:\n",
    "#         value1 = \"0\" + value1.astype(str)\n",
    "\n",
    "result['เลขทะเบียน'] = \"'0\" + result['เลขทะเบียน'].astype(str)\n",
    "# # Function to add '0' to strings of length 13\n",
    "# def add_zero(s):\n",
    "# #     s = str(s)  # Ensure the input is a string\n",
    "#     if len(s) == 14:\n",
    "#         return '0' + s\n",
    "#     else:\n",
    "#         return s\n",
    "\n",
    "# # Applying the function to the DataFrame\n",
    "# result['เลขทะเบียน'] = result['เลขทะเบียน'].apply(lambda x: add_zero(x))\n",
    "\n",
    "# # Reset the index of the final result DataFrame\n",
    "# result = result.reset_index(drop=True)\n",
    "\n",
    "# result.dtypes"
   ]
  },
  {
   "cell_type": "code",
   "execution_count": null,
   "id": "5bf3e827",
   "metadata": {},
   "outputs": [],
   "source": [
    "result['วันที่จดทะเบียน'] = result['วันที่จดทะเบียน'].str.replace(' มกราคม ','/1/')\n",
    "result['วันที่จดทะเบียน'] = result['วันที่จดทะเบียน'].str.replace(' กุมภาพันธ์ ','/2/')\n",
    "result['วันที่จดทะเบียน'] = result['วันที่จดทะเบียน'].str.replace(' มีนาคม ','/3/')\n",
    "result['วันที่จดทะเบียน'] = result['วันที่จดทะเบียน'].str.replace(' เมษายน ','/4/')\n",
    "result['วันที่จดทะเบียน'] = result['วันที่จดทะเบียน'].str.replace(' พฤษภาคม ','/5/')\n",
    "result['วันที่จดทะเบียน'] = result['วันที่จดทะเบียน'].str.replace(' มิถุนายน ','/6/')\n",
    "result['วันที่จดทะเบียน'] = result['วันที่จดทะเบียน'].str.replace(' กรกฎาคม ','/7/')\n",
    "result['วันที่จดทะเบียน'] = result['วันที่จดทะเบียน'].str.replace(' สิงหาคม ','/8/')\n",
    "result['วันที่จดทะเบียน'] = result['วันที่จดทะเบียน'].str.replace(' กันยายน ','/9/')\n",
    "result['วันที่จดทะเบียน'] = result['วันที่จดทะเบียน'].str.replace(' ตุลาคม ','/10/')\n",
    "result['วันที่จดทะเบียน'] = result['วันที่จดทะเบียน'].str.replace(' พฤศจิกายน ','/11/')\n",
    "result['วันที่จดทะเบียน'] = result['วันที่จดทะเบียน'].str.replace(' ธันวาคม ','/12/')"
   ]
  },
  {
   "cell_type": "code",
   "execution_count": null,
   "id": "65db5996",
   "metadata": {},
   "outputs": [],
   "source": []
  },
  {
   "cell_type": "code",
   "execution_count": null,
   "id": "2ef22e6a",
   "metadata": {},
   "outputs": [],
   "source": [
    "result = result.reset_index(drop=True)\n",
    "# result"
   ]
  },
  {
   "cell_type": "code",
   "execution_count": null,
   "id": "2f4317f4",
   "metadata": {},
   "outputs": [],
   "source": [
    "# result.dtypes"
   ]
  },
  {
   "cell_type": "code",
   "execution_count": null,
   "id": "1ef296ca",
   "metadata": {},
   "outputs": [],
   "source": []
  },
  {
   "cell_type": "code",
   "execution_count": null,
   "id": "aa7d0bff",
   "metadata": {},
   "outputs": [],
   "source": [
    "file = '/Users/bew/Downloads/DataForThai_jupyter/FilterAndSearchData.csv'\n",
    "df = pd.read_csv(file)\n",
    "\n",
    "df_updated = pd.concat([df, result], ignore_index=True)\n",
    "df_updated = df_updated.drop_duplicates(subset='เลขทะเบียน')\n",
    "df_updated = df_updated.reset_index(drop=True)\n",
    "\n",
    "df_updated.dtypes\n",
    "df_updated"
   ]
  },
  {
   "cell_type": "code",
   "execution_count": null,
   "id": "29ebc853",
   "metadata": {},
   "outputs": [],
   "source": []
  },
  {
   "cell_type": "code",
   "execution_count": null,
   "id": "27950a94",
   "metadata": {},
   "outputs": [],
   "source": []
  },
  {
   "cell_type": "code",
   "execution_count": null,
   "id": "de18fb62",
   "metadata": {},
   "outputs": [],
   "source": [
    "# result[result['เลขทะเบียน'].str.len() != 13]"
   ]
  },
  {
   "cell_type": "code",
   "execution_count": null,
   "id": "32e1193d",
   "metadata": {},
   "outputs": [],
   "source": [
    "# result"
   ]
  },
  {
   "cell_type": "code",
   "execution_count": null,
   "id": "05fc3d66",
   "metadata": {},
   "outputs": [],
   "source": [
    "file_name = 'FilterAndSearchData.csv'\n",
    "file_path = '/Users/bew/Downloads/DataForThai_jupyter/'\n",
    "\n",
    "# Combine the file path and file name\n",
    "full_path = os.path.join(file_path, file_name)\n",
    "\n",
    "# result.to_csv(full_path, sep=',', index=False, header=True, encoding='utf-8') # รอบ 1\n",
    "df_updated.to_csv(full_path, sep=',', index=False, header=True, encoding='utf-8') # รอบ 2+\n",
    "\n",
    "print('finish')"
   ]
  },
  {
   "cell_type": "code",
   "execution_count": null,
   "id": "69bc2c89",
   "metadata": {},
   "outputs": [],
   "source": []
  },
  {
   "cell_type": "code",
   "execution_count": null,
   "id": "a245c0f0",
   "metadata": {},
   "outputs": [],
   "source": []
  },
  {
   "cell_type": "code",
   "execution_count": null,
   "id": "649cc736",
   "metadata": {},
   "outputs": [],
   "source": []
  },
  {
   "cell_type": "code",
   "execution_count": null,
   "id": "84a7b32d",
   "metadata": {},
   "outputs": [],
   "source": []
  },
  {
   "cell_type": "code",
   "execution_count": null,
   "id": "b991c6dd",
   "metadata": {},
   "outputs": [],
   "source": []
  },
  {
   "cell_type": "code",
   "execution_count": null,
   "id": "8933d9ef",
   "metadata": {},
   "outputs": [],
   "source": []
  },
  {
   "cell_type": "code",
   "execution_count": null,
   "id": "7690de6c",
   "metadata": {},
   "outputs": [],
   "source": [
    "# # Step 1: Remove commas from the strings\n",
    "# df['Capital'] = df['Capital'].str.replace(',', '')\n",
    "\n",
    "# # Step 2: Convert the strings to numeric type (int or float)\n",
    "# df['Capital'] = pd.to_numeric(df['Capital'])\n",
    "\n",
    "# # Display the DataFrame to verify the changes\n",
    "# df"
   ]
  }
 ],
 "metadata": {
  "kernelspec": {
   "display_name": "Python 3 (ipykernel)",
   "language": "python",
   "name": "python3"
  },
  "language_info": {
   "codemirror_mode": {
    "name": "ipython",
    "version": 3
   },
   "file_extension": ".py",
   "mimetype": "text/x-python",
   "name": "python",
   "nbconvert_exporter": "python",
   "pygments_lexer": "ipython3",
   "version": "3.10.9"
  }
 },
 "nbformat": 4,
 "nbformat_minor": 5
}
